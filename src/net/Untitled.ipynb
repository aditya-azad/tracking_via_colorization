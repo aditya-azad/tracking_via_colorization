{
 "cells": [
  {
   "cell_type": "code",
   "execution_count": 1,
   "metadata": {},
   "outputs": [],
   "source": [
    "import numpy as np"
   ]
  },
  {
   "cell_type": "code",
   "execution_count": 5,
   "metadata": {},
   "outputs": [],
   "source": [
    "x1 = np.ones((1,10,10))\n",
    "x2 = np.ones((1,10,10)) * 2\n",
    "x3 = np.ones((1,10,10)) * 3\n",
    "x4 = np.ones((1,10,10)) * 4"
   ]
  },
  {
   "cell_type": "code",
   "execution_count": 6,
   "metadata": {},
   "outputs": [],
   "source": [
    "x = np.concatenate([x1,x2,x3,x4],axis=0)"
   ]
  },
  {
   "cell_type": "code",
   "execution_count": 7,
   "metadata": {},
   "outputs": [
    {
     "data": {
      "text/plain": [
       "(4, 10, 10)"
      ]
     },
     "execution_count": 7,
     "metadata": {},
     "output_type": "execute_result"
    }
   ],
   "source": [
    "x.shape"
   ]
  },
  {
   "cell_type": "code",
   "execution_count": 8,
   "metadata": {},
   "outputs": [],
   "source": [
    "x_r = x.reshape((-1,2,10,10))"
   ]
  },
  {
   "cell_type": "code",
   "execution_count": 9,
   "metadata": {},
   "outputs": [
    {
     "data": {
      "text/plain": [
       "(2, 2, 10, 10)"
      ]
     },
     "execution_count": 9,
     "metadata": {},
     "output_type": "execute_result"
    }
   ],
   "source": [
    "x_r.shape"
   ]
  },
  {
   "cell_type": "code",
   "execution_count": 12,
   "metadata": {},
   "outputs": [],
   "source": [
    "x_ref = x_r[:,0,:,:]\n",
    "x_tar = x_r[:,1,:,:]"
   ]
  },
  {
   "cell_type": "code",
   "execution_count": 11,
   "metadata": {},
   "outputs": [
    {
     "data": {
      "text/plain": [
       "array([[[1., 1., 1., 1., 1., 1., 1., 1., 1., 1.],\n",
       "        [1., 1., 1., 1., 1., 1., 1., 1., 1., 1.],\n",
       "        [1., 1., 1., 1., 1., 1., 1., 1., 1., 1.],\n",
       "        [1., 1., 1., 1., 1., 1., 1., 1., 1., 1.],\n",
       "        [1., 1., 1., 1., 1., 1., 1., 1., 1., 1.],\n",
       "        [1., 1., 1., 1., 1., 1., 1., 1., 1., 1.],\n",
       "        [1., 1., 1., 1., 1., 1., 1., 1., 1., 1.],\n",
       "        [1., 1., 1., 1., 1., 1., 1., 1., 1., 1.],\n",
       "        [1., 1., 1., 1., 1., 1., 1., 1., 1., 1.],\n",
       "        [1., 1., 1., 1., 1., 1., 1., 1., 1., 1.]],\n",
       "\n",
       "       [[3., 3., 3., 3., 3., 3., 3., 3., 3., 3.],\n",
       "        [3., 3., 3., 3., 3., 3., 3., 3., 3., 3.],\n",
       "        [3., 3., 3., 3., 3., 3., 3., 3., 3., 3.],\n",
       "        [3., 3., 3., 3., 3., 3., 3., 3., 3., 3.],\n",
       "        [3., 3., 3., 3., 3., 3., 3., 3., 3., 3.],\n",
       "        [3., 3., 3., 3., 3., 3., 3., 3., 3., 3.],\n",
       "        [3., 3., 3., 3., 3., 3., 3., 3., 3., 3.],\n",
       "        [3., 3., 3., 3., 3., 3., 3., 3., 3., 3.],\n",
       "        [3., 3., 3., 3., 3., 3., 3., 3., 3., 3.],\n",
       "        [3., 3., 3., 3., 3., 3., 3., 3., 3., 3.]]])"
      ]
     },
     "execution_count": 11,
     "metadata": {},
     "output_type": "execute_result"
    }
   ],
   "source": [
    "x_ref"
   ]
  },
  {
   "cell_type": "code",
   "execution_count": 13,
   "metadata": {},
   "outputs": [
    {
     "data": {
      "text/plain": [
       "array([[[2., 2., 2., 2., 2., 2., 2., 2., 2., 2.],\n",
       "        [2., 2., 2., 2., 2., 2., 2., 2., 2., 2.],\n",
       "        [2., 2., 2., 2., 2., 2., 2., 2., 2., 2.],\n",
       "        [2., 2., 2., 2., 2., 2., 2., 2., 2., 2.],\n",
       "        [2., 2., 2., 2., 2., 2., 2., 2., 2., 2.],\n",
       "        [2., 2., 2., 2., 2., 2., 2., 2., 2., 2.],\n",
       "        [2., 2., 2., 2., 2., 2., 2., 2., 2., 2.],\n",
       "        [2., 2., 2., 2., 2., 2., 2., 2., 2., 2.],\n",
       "        [2., 2., 2., 2., 2., 2., 2., 2., 2., 2.],\n",
       "        [2., 2., 2., 2., 2., 2., 2., 2., 2., 2.]],\n",
       "\n",
       "       [[4., 4., 4., 4., 4., 4., 4., 4., 4., 4.],\n",
       "        [4., 4., 4., 4., 4., 4., 4., 4., 4., 4.],\n",
       "        [4., 4., 4., 4., 4., 4., 4., 4., 4., 4.],\n",
       "        [4., 4., 4., 4., 4., 4., 4., 4., 4., 4.],\n",
       "        [4., 4., 4., 4., 4., 4., 4., 4., 4., 4.],\n",
       "        [4., 4., 4., 4., 4., 4., 4., 4., 4., 4.],\n",
       "        [4., 4., 4., 4., 4., 4., 4., 4., 4., 4.],\n",
       "        [4., 4., 4., 4., 4., 4., 4., 4., 4., 4.],\n",
       "        [4., 4., 4., 4., 4., 4., 4., 4., 4., 4.],\n",
       "        [4., 4., 4., 4., 4., 4., 4., 4., 4., 4.]]])"
      ]
     },
     "execution_count": 13,
     "metadata": {},
     "output_type": "execute_result"
    }
   ],
   "source": [
    "x_tar"
   ]
  },
  {
   "cell_type": "code",
   "execution_count": 1,
   "metadata": {},
   "outputs": [],
   "source": [
    "from glob import glob\n"
   ]
  },
  {
   "cell_type": "code",
   "execution_count": 2,
   "metadata": {},
   "outputs": [],
   "source": [
    "v = glob(\"/dataset/tracking/*\")"
   ]
  },
  {
   "cell_type": "code",
   "execution_count": 3,
   "metadata": {},
   "outputs": [
    {
     "data": {
      "text/plain": [
       "[]"
      ]
     },
     "execution_count": 3,
     "metadata": {},
     "output_type": "execute_result"
    }
   ],
   "source": [
    "v"
   ]
  },
  {
   "cell_type": "code",
   "execution_count": null,
   "metadata": {},
   "outputs": [],
   "source": []
  }
 ],
 "metadata": {
  "kernelspec": {
   "display_name": "Python 3",
   "language": "python",
   "name": "python3"
  },
  "language_info": {
   "codemirror_mode": {
    "name": "ipython",
    "version": 3
   },
   "file_extension": ".py",
   "mimetype": "text/x-python",
   "name": "python",
   "nbconvert_exporter": "python",
   "pygments_lexer": "ipython3",
   "version": "3.7.7"
  }
 },
 "nbformat": 4,
 "nbformat_minor": 4
}
